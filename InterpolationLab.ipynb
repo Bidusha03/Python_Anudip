{
 "cells": [
  {
   "cell_type": "markdown",
   "id": "4a5d03ed-3de8-41b5-83b4-d722f9ee1b75",
   "metadata": {},
   "source": [
    "Write a python program using pandas Interpolation to fill in missing values in the data frame.\n",
    "\n",
    "Input:\n",
    "df = pd.DataFrame({\"Math\":[12, 4, 7, None, 2],\n",
    "\"English\":[4, 3, 57, 3, None],\n",
    "\"Hindi\":[20, 16, None, 3, 8],\n",
    "\"Science\":[14, 3, None, None, 6]})"
   ]
  },
  {
   "cell_type": "code",
   "execution_count": 12,
   "id": "816025a8-dd4b-44ab-b86d-45321ae79ee4",
   "metadata": {},
   "outputs": [
    {
     "name": "stdout",
     "output_type": "stream",
     "text": [
      "Original DataFrame:\n",
      "   Math  English  Hindi  Science\n",
      "0  12.0      4.0   20.0     14.0\n",
      "1   4.0      3.0   16.0      3.0\n",
      "2   7.0     57.0    NaN      NaN\n",
      "3   NaN      3.0    3.0      NaN\n",
      "4   2.0      NaN    8.0      6.0\n",
      "\n",
      "DataFrame with Interpolated Values:\n",
      "   Math  English  Hindi  Science\n",
      "0  12.0      4.0   20.0     14.0\n",
      "1   4.0      3.0   16.0      3.0\n",
      "2   7.0     57.0    9.5      4.0\n",
      "3   4.5      3.0    3.0      5.0\n",
      "4   2.0      3.0    8.0      6.0\n"
     ]
    }
   ],
   "source": [
    "import pandas as pd   #import pandas using alias 'pd'\n",
    "\n",
    "# Create the DataFrame\n",
    "df = pd.DataFrame({\n",
    "    \"Math\": [12, 4, 7, None, 2],\n",
    "    \"English\": [4, 3, 57, 3, None],\n",
    "    \"Hindi\": [20, 16, None, 3, 8],\n",
    "    \"Science\": [14, 3, None, None, 6]})\n",
    "\n",
    "# Interpolate missing values\n",
    "df_interpolated = df.interpolate()\n",
    "\n",
    "# Print the original DataFrame\n",
    "print(\"Original DataFrame:\")\n",
    "print(df)\n",
    "\n",
    "# Print the DataFrame with interpolated values\n",
    "print(\"\\nDataFrame with Interpolated Values:\")\n",
    "print(df_interpolated)"
   ]
  },
  {
   "cell_type": "markdown",
   "id": "b602d3cf-960c-4566-998f-53b76cdc8eb9",
   "metadata": {},
   "source": [
    "Write a python program using Interpolation to fill in missing values in the data frame. \n",
    "Then generate a subject wise highest score in the form of a bar chart.\n",
    "Input: data = {\n",
    "'Subject': ['Math', 'Physics', 'Chemistry', 'Biology'],\n",
    "'Student_A': [80, 85, np.nan, 70],\n",
    "'Student_B': [90, np.nan, 75, 85],\n",
    "'Student_C': [80, 88, np.nan, 78]}"
   ]
  },
  {
   "cell_type": "code",
   "execution_count": 13,
   "id": "a86a904a-999e-48d4-b843-61629176b481",
   "metadata": {},
   "outputs": [
    {
     "name": "stdout",
     "output_type": "stream",
     "text": [
      "Original DataFrame:\n",
      "     Subject  Student_A  Student_B  Student_C\n",
      "0       Math       80.0       90.0       80.0\n",
      "1    Physics       85.0        NaN       88.0\n",
      "2  Chemistry        NaN       75.0        NaN\n",
      "3    Biology       70.0       85.0       78.0\n",
      "\n",
      "DataFrame with Interpolated Values:\n",
      "     Subject  Student_A  Student_B  Student_C\n",
      "0       Math       80.0       90.0       80.0\n",
      "1    Physics       85.0       82.5       88.0\n",
      "2  Chemistry       77.5       75.0       83.0\n",
      "3    Biology       70.0       85.0       78.0\n"
     ]
    },
    {
     "name": "stderr",
     "output_type": "stream",
     "text": [
      "C:\\Users\\user\\AppData\\Local\\Temp\\ipykernel_8012\\1799513942.py:16: FutureWarning: DataFrame.interpolate with object dtype is deprecated and will raise in a future version. Call obj.infer_objects(copy=False) before interpolating instead.\n",
      "  df_interpolated = df.interpolate()\n"
     ]
    },
    {
     "data": {
      "image/png": "[encoded data removed]",
      "text/plain": [
       "<Figure size 640x480 with 1 Axes>"
      ]
     },
     "metadata": {},
     "output_type": "display_data"
    }
   ],
   "source": [
    "import pandas as pd   # Imports pandas library and assigns it the alias 'pd'\n",
    "import numpy as np    #Imports numpy library and assigns it the alias 'np'\n",
    "import matplotlib.pyplot as plt   # Imports the pyplot module from the matplotlib library and assigns it the alias 'plt'\n",
    "\n",
    "# Input data\n",
    "data = {\n",
    "    'Subject': ['Math', 'Physics', 'Chemistry', 'Biology'],\n",
    "    'Student_A': [80, 85, np.nan, 70],\n",
    "    'Student_B': [90, np.nan, 75, 85],\n",
    "    'Student_C': [80, 88, np.nan, 78]}\n",
    "\n",
    "# Create DataFrame\n",
    "df = pd.DataFrame(data)\n",
    "\n",
    "# Interpolate missing values\n",
    "df_interpolated = df.interpolate()\n",
    "\n",
    "# Print the original DataFrame\n",
    "print(\"Original DataFrame:\")\n",
    "print(df)\n",
    "\n",
    "# Print the DataFrame with interpolated values\n",
    "print(\"\\nDataFrame with Interpolated Values:\")\n",
    "print(df_interpolated)\n",
    "\n",
    "# Calculate subject-wise highest scores\n",
    "highest_scores = df_interpolated.drop('Subject',axis=1).max(axis=1)\n",
    "\n",
    "# Plot the bar chart and show\n",
    "plt.bar(df_interpolated['Subject'], highest_scores, color='skyblue')\n",
    "plt.xlabel('Subjects')\n",
    "plt.ylabel('Highest Score')\n",
    "plt.title('Subject-wise Highest Scores')\n",
    "plt.show()"
   ]
  },
  {
   "cell_type": "code",
   "execution_count": null,
   "id": "247555f9-2d93-47ab-ad3a-c2249729ebe2",
   "metadata": {},
   "outputs": [],
   "source": []
  },
  {
   "cell_type": "code",
   "execution_count": null,
   "id": "174e90a0-9a71-404c-bdfa-55fd45cc6528",
   "metadata": {},
   "outputs": [],
   "source": []
  }
 ],
 "metadata": {
  "kernelspec": {
   "display_name": "Python 3 (ipykernel)",
   "language": "python",
   "name": "python3"
  },
  "language_info": {
   "codemirror_mode": {
    "name": "ipython",
    "version": 3
   },
   "file_extension": ".py",
   "mimetype": "text/x-python",
   "name": "python",
   "nbconvert_exporter": "python",
   "pygments_lexer": "ipython3",
   "version": "3.12.0"
  }
 },
 "nbformat": 4,
 "nbformat_minor": 5
}
