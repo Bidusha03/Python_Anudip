{
 "cells": [
  {
   "cell_type": "markdown",
   "id": "1a2e427f-1c2e-49cd-8ce5-2f54cc3941e1",
   "metadata": {},
   "source": [
    "Write a python program to read the radius from the below .csv file and then Calculate the Area of a Circle using SciPy Constants. After that display\n",
    "the first 5 records and also save the calculated result into a new .csv file.\n",
    "\n",
    "Input:https://raw.githubusercontent.com/AnudipAE/DANLC/master/radius_data.csv"
   ]
  },
  {
   "cell_type": "code",
   "execution_count": 29,
   "id": "1093ef55-2e93-412a-a832-4ddc2c03f30a",
   "metadata": {},
   "outputs": [
    {
     "name": "stdout",
     "output_type": "stream",
     "text": [
      "  CircleName    Radius        Area\n",
      "0        SAY  3.798717   45.333960\n",
      "1        PSN  9.958397  311.550720\n",
      "2        JDP  5.142711   83.087197\n",
      "3        AUO  3.319584   34.619210\n",
      "4        OHG  1.138395    4.071325\n",
      "\n",
      "Calculated areas saved to calculated_areas.csv\n"
     ]
    }
   ],
   "source": [
    "import pandas as pd    #import pandas using alias 'pd'\n",
    "import scipy           #import scipy\n",
    "from scipy import constants as cons      #import constants from scipy library using alias 'cons'\n",
    "\n",
    "#read given csv file\n",
    "df=pd.read_csv(\"https://raw.githubusercontent.com/AnudipAE/DANLC/master/radius_data.csv\")\n",
    "\n",
    "df['Area'] = df['Radius']**2 * cons.pi    #calculating area of a circle using scipy constants\n",
    "\n",
    "print(df.head())     #printing first 5 record using head() \n",
    "\n",
    "# Save the DataFrame to a new CSV file\n",
    "output_file = \"calculated_areas.csv\"\n",
    "df.to_csv(output_file, index=False)\n",
    "\n",
    "print(f\"\\nCalculated areas saved to {output_file}\")"
   ]
  },
  {
   "cell_type": "markdown",
   "id": "8c3fc2d0-7558-4366-8a24-af88415e3160",
   "metadata": {},
   "source": [
    "Write a python program to read the Inches from the below .csv file and then Convert Inches to Centimeters using SciPy Constants. After that\n",
    "display the first 5 records and also save the calculated result into a new csv file.\n",
    "\n",
    "Input:https://raw.githubusercontent.com/AnudipAE/DANLC/master/people_heights.csv"
   ]
  },
  {
   "cell_type": "code",
   "execution_count": 30,
   "id": "b6882c68-f2dc-4250-b608-640c84c93299",
   "metadata": {},
   "outputs": [
    {
     "name": "stdout",
     "output_type": "stream",
     "text": [
      "       Name  Height (inches)  Height(cm)\n",
      "0  Person 1            60.03    152.4762\n",
      "1  Person 2            49.51    125.7554\n",
      "2  Person 3            82.97    210.7438\n",
      "3  Person 4            64.19    163.0426\n",
      "4  Person 5            54.42    138.2268\n",
      "\n",
      "Converted heights saved to heights_in_cm.csv\n"
     ]
    }
   ],
   "source": [
    "import pandas as pd    #import pandas using alias 'pd'\n",
    "import scipy           #import scipy\n",
    "from scipy import constants as cons      #import constants from scipy library using alias 'cons'\n",
    "\n",
    "#read given csv file\n",
    "df=pd.read_csv(\"https://raw.githubusercontent.com/AnudipAE/DANLC/master/people_heights.csv\")\n",
    "\n",
    "#converting Height inches to cm using Scipy Constants\n",
    "df['Height(cm)'] = df['Height (inches)'] * cons.inch * 100\n",
    "\n",
    "print(df.head())  #printing first 5 records\n",
    "\n",
    "# Save the DataFrame to a new CSV file\n",
    "output_file = \"heights_in_cm.csv\"\n",
    "df.to_csv(output_file, index=False)\n",
    "\n",
    "print(f\"\\nConverted heights saved to {output_file}\")"
   ]
  },
  {
   "cell_type": "code",
   "execution_count": null,
   "id": "d0586b23-5085-456f-85b9-bfe5c269f9cb",
   "metadata": {},
   "outputs": [],
   "source": []
  }
 ],
 "metadata": {
  "kernelspec": {
   "display_name": "Python 3 (ipykernel)",
   "language": "python",
   "name": "python3"
  },
  "language_info": {
   "codemirror_mode": {
    "name": "ipython",
    "version": 3
   },
   "file_extension": ".py",
   "mimetype": "text/x-python",
   "name": "python",
   "nbconvert_exporter": "python",
   "pygments_lexer": "ipython3",
   "version": "3.12.0"
  }
 },
 "nbformat": 4,
 "nbformat_minor": 5
}
