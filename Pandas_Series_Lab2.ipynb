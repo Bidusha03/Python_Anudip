{
 "cells": [
  {
   "cell_type": "code",
   "execution_count": 2,
   "id": "a619078e-6d1f-4e56-88d3-c82b679d8301",
   "metadata": {},
   "outputs": [
    {
     "name": "stdout",
     "output_type": "stream",
     "text": [
      "January      5000\n",
      "February     5200\n",
      "March        4800\n",
      "April        5400\n",
      "May          5600\n",
      "June         5800\n",
      "July         6100\n",
      "August       5900\n",
      "September    6200\n",
      "October      6500\n",
      "November     7000\n",
      "December     6900\n",
      "Name: Monthly Revenue (USD), dtype: int64\n"
     ]
    }
   ],
   "source": [
    "import pandas as pd\n",
    "\n",
    "# Months in a year\n",
    "months = ['January', 'February', 'March', 'April', 'May', 'June', 'July', 'August',\n",
    "          'September', 'October', 'November', 'December']\n",
    "\n",
    "# Monthly advertising revenue data (example data in USD)\n",
    "revenue_data = [5000, 5200, 4800, 5400, 5600, 5800, 6100, 5900, 6200, 6500, 7000, 6900]\n",
    "\n",
    "# Create a Pandas Series for monthly advertising revenue\n",
    "revenue_series = pd.Series(revenue_data, index=months, name='Monthly Revenue (USD)')\n",
    "\n",
    "# Display the Series\n",
    "print(revenue_series)\n"
   ]
  },
  {
   "cell_type": "code",
   "execution_count": null,
   "id": "f0d0eda9-25b9-44f9-98c8-b3cb59beb94b",
   "metadata": {},
   "outputs": [],
   "source": []
  }
 ],
 "metadata": {
  "kernelspec": {
   "display_name": "Python 3 (ipykernel)",
   "language": "python",
   "name": "python3"
  },
  "language_info": {
   "codemirror_mode": {
    "name": "ipython",
    "version": 3
   },
   "file_extension": ".py",
   "mimetype": "text/x-python",
   "name": "python",
   "nbconvert_exporter": "python",
   "pygments_lexer": "ipython3",
   "version": "3.12.0"
  }
 },
 "nbformat": 4,
 "nbformat_minor": 5
}
