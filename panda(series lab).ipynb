{
 "cells": [
  {
   "cell_type": "code",
   "execution_count": 1,
   "id": "1fccaf27-1ad2-4c10-bed3-632ed71faf0a",
   "metadata": {},
   "outputs": [
    {
     "name": "stdout",
     "output_type": "stream",
     "text": [
      "January      350\n",
      "February     320\n",
      "March        310\n",
      "April        330\n",
      "May          340\n",
      "June         370\n",
      "July         380\n",
      "August       360\n",
      "September    350\n",
      "October      330\n",
      "November     320\n",
      "December     330\n",
      "Name: Electricity Usage (kWh), dtype: int64\n",
      "January      20\n",
      "February     18\n",
      "March        16\n",
      "April        15\n",
      "May          12\n",
      "June         10\n",
      "July          8\n",
      "August        9\n",
      "September    12\n",
      "October      15\n",
      "November     17\n",
      "December     19\n",
      "Name: Gas Usage (therms), dtype: int64\n"
     ]
    }
   ],
   "source": [
    "import pandas as pd\n",
    "\n",
    "# Months in a year\n",
    "months = ['January', 'February', 'March', 'April', 'May', 'June', 'July', 'August',\n",
    "          'September', 'October', 'November', 'December']\n",
    "\n",
    "# Monthly energy consumption data (example data in kilowatt-hours for electricity and therms for gas)\n",
    "electricity_usage = [350, 320, 310, 330, 340, 370, 380, 360, 350, 330, 320, 330]\n",
    "gas_usage = [20, 18, 16, 15, 12, 10, 8, 9, 12, 15, 17, 19]\n",
    "\n",
    "# Create Pandas Series for electricity and gas consumption\n",
    "electricity_series = pd.Series(electricity_usage, index=months, name='Electricity Usage (kWh)')\n",
    "gas_series = pd.Series(gas_usage, index=months, name='Gas Usage (therms)')\n",
    "\n",
    "# Display the Series\n",
    "print(electricity_series)\n",
    "print(gas_series)\n"
   ]
  },
  {
   "cell_type": "code",
   "execution_count": null,
   "id": "9150c19b-a5ed-4c46-85cb-bfb581c78265",
   "metadata": {},
   "outputs": [],
   "source": []
  },
  {
   "cell_type": "code",
   "execution_count": null,
   "id": "4c098b97-5335-4b1d-8ab9-31ae8b195724",
   "metadata": {},
   "outputs": [],
   "source": []
  }
 ],
 "metadata": {
  "kernelspec": {
   "display_name": "Python 3 (ipykernel)",
   "language": "python",
   "name": "python3"
  },
  "language_info": {
   "codemirror_mode": {
    "name": "ipython",
    "version": 3
   },
   "file_extension": ".py",
   "mimetype": "text/x-python",
   "name": "python",
   "nbconvert_exporter": "python",
   "pygments_lexer": "ipython3",
   "version": "3.12.0"
  }
 },
 "nbformat": 4,
 "nbformat_minor": 5
}
