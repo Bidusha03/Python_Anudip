{
 "cells": [
  {
   "cell_type": "code",
   "execution_count": null,
   "id": "b3ca598d-5744-434b-8430-4ea1880504fe",
   "metadata": {},
   "outputs": [],
   "source": [
    "import pandas as pd\n",
    "\n",
    "# Months in a year\n",
    "months = ['January', 'February', 'March', 'April', 'May', 'June', 'July', 'August',\n",
    "          'September', 'October', 'November', 'December']\n",
    "\n",
    "# Monthly advertising revenue data (example data in USD)\n",
    "revenue_data = [5000, 5200, 4800, 5400, 5600, 5800, 6100, 5900, 6200, 6500, 7000, 6900]\n",
    "\n",
    "# Create a Pandas Series for monthly advertising revenue\n",
    "revenue_series = pd.Series(revenue_data, index=months, name='Monthly Revenue (USD)')\n",
    "\n",
    "# Display the Series\n",
    "print(revenue_series)\n"
   ]
  }
 ],
 "metadata": {
  "kernelspec": {
   "display_name": "Python 3 (ipykernel)",
   "language": "python",
   "name": "python3"
  },
  "language_info": {
   "codemirror_mode": {
    "name": "ipython",
    "version": 3
   },
   "file_extension": ".py",
   "mimetype": "text/x-python",
   "name": "python",
   "nbconvert_exporter": "python",
   "pygments_lexer": "ipython3",
   "version": "3.12.0"
  }
 },
 "nbformat": 4,
 "nbformat_minor": 5
}
